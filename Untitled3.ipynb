{
 "cells": [
  {
   "cell_type": "code",
   "execution_count": 7,
   "id": "32fd0f93-58f6-4971-b2f0-b70c3cfde385",
   "metadata": {},
   "outputs": [
    {
     "name": "stdin",
     "output_type": "stream",
     "text": [
      "لطفا از کلمات جایگزین استفاده کنید(سنگ = r , کاغذ = p , قیچی = s):  p\n"
     ]
    },
    {
     "name": "stdout",
     "output_type": "stream",
     "text": [
      "\n",
      " انتخاب شما : p, انتخاب کامپیوتر : s.\n",
      "\n",
      "قیچی کاغذ را برش میدهد.شما باختید\n"
     ]
    },
    {
     "name": "stdin",
     "output_type": "stream",
     "text": [
      "آیا مایل به بازی مجدد هستید:(بله='y', خیر='n') y\n",
      "لطفا از کلمات جایگزین استفاده کنید(سنگ = r , کاغذ = p , قیچی = s):  s\n"
     ]
    },
    {
     "name": "stdout",
     "output_type": "stream",
     "text": [
      "\n",
      " انتخاب شما : s, انتخاب کامپیوتر : s.\n",
      "\n",
      "انتخاب هر دو بازیکن برابر است :s. بازی مساوی شد\n"
     ]
    },
    {
     "name": "stdin",
     "output_type": "stream",
     "text": [
      "آیا مایل به بازی مجدد هستید:(بله='y', خیر='n') y\n",
      "لطفا از کلمات جایگزین استفاده کنید(سنگ = r , کاغذ = p , قیچی = s):  s\n"
     ]
    },
    {
     "name": "stdout",
     "output_type": "stream",
     "text": [
      "\n",
      " انتخاب شما : s, انتخاب کامپیوتر : s.\n",
      "\n",
      "انتخاب هر دو بازیکن برابر است :s. بازی مساوی شد\n"
     ]
    },
    {
     "name": "stdin",
     "output_type": "stream",
     "text": [
      "آیا مایل به بازی مجدد هستید:(بله='y', خیر='n') y\n",
      "لطفا از کلمات جایگزین استفاده کنید(سنگ = r , کاغذ = p , قیچی = s):  s\n"
     ]
    },
    {
     "name": "stdout",
     "output_type": "stream",
     "text": [
      "\n",
      " انتخاب شما : s, انتخاب کامپیوتر : r.\n",
      "\n",
      "سنگ قیچی را خرد میکند.شما باختید\n"
     ]
    },
    {
     "name": "stdin",
     "output_type": "stream",
     "text": [
      "آیا مایل به بازی مجدد هستید:(بله='y', خیر='n') n\n"
     ]
    }
   ],
   "source": [
    "import random \n",
    "\n",
    "while True:     # برای حلقه نامحدود \n",
    "    user_reaction = input(\"لطفا از کلمات جایگزین استفاده کنید(سنگ = r , کاغذ = p , قیچی = s): \")\n",
    "    reactions = [\"r\", \"p\", \"s\"]\n",
    "    computer_reaction = random.choice(reactions)\n",
    "    print(f\"\\n انتخاب شما : {user_reaction}, انتخاب کامپیوتر : {computer_reaction}.\\n\")\n",
    "    \n",
    "    if user_reaction == computer_reaction:\n",
    "        print(f\"انتخاب هر دو بازیکن برابر است :{user_reaction}. بازی مساوی شد\")\n",
    "    elif user_reaction == \"r\":\n",
    "        if computer_reaction == \"s\":\n",
    "            print(\"سنگ قیچی را خرد میکند.شما برنده شدید\")\n",
    "        else:\n",
    "            print(\"کاغذ سنگ را می پوشاند.شما باختید\")\n",
    "    elif user_reaction == \"p\":\n",
    "        if computer_reaction == \"r\":\n",
    "            print(\"کاغذ سنگ را می پوشاند.شما برنده شدید\")\n",
    "        else:\n",
    "            print(\"قیچی کاغذ را برش میدهد.شما باختید\")\n",
    "    elif user_reaction == \"s\":\n",
    "        if computer_reaction == \"p\":\n",
    "            print(\"قیچی کاغذ را برش میدهد.شما برنده شدید\")\n",
    "        else:\n",
    "            print(\"سنگ قیچی را خرد میکند.شما باختید\")\n",
    "    play_again = input(\"آیا مایل به بازی مجدد هستید:(بله='y', خیر='n')\") \n",
    "    if play_again.lower() != \"y\": # اگر خیر وارد شد برنامه رو ببند\n",
    "       break "
   ]
  },
  {
   "cell_type": "code",
   "execution_count": null,
   "id": "a9afaa2f-76e5-422d-8355-98ad8219f6fb",
   "metadata": {},
   "outputs": [],
   "source": []
  }
 ],
 "metadata": {
  "kernelspec": {
   "display_name": "Python 3 (ipykernel)",
   "language": "python",
   "name": "python3"
  },
  "language_info": {
   "codemirror_mode": {
    "name": "ipython",
    "version": 3
   },
   "file_extension": ".py",
   "mimetype": "text/x-python",
   "name": "python",
   "nbconvert_exporter": "python",
   "pygments_lexer": "ipython3",
   "version": "3.8.1"
  }
 },
 "nbformat": 4,
 "nbformat_minor": 5
}
